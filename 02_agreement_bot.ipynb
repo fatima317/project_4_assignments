{
  "nbformat": 4,
  "nbformat_minor": 0,
  "metadata": {
    "colab": {
      "provenance": [],
      "authorship_tag": "ABX9TyPwk6bh6V+r6hTnp7w4+FGY",
      "include_colab_link": true
    },
    "kernelspec": {
      "name": "python3",
      "display_name": "Python 3"
    },
    "language_info": {
      "name": "python"
    }
  },
  "cells": [
    {
      "cell_type": "markdown",
      "metadata": {
        "id": "view-in-github",
        "colab_type": "text"
      },
      "source": [
        "<a href=\"https://colab.research.google.com/github/fatima317/project_4_assignments/blob/main/02_agreement_bot.ipynb\" target=\"_parent\"><img src=\"https://colab.research.google.com/assets/colab-badge.svg\" alt=\"Open In Colab\"/></a>"
      ]
    },
    {
      "cell_type": "code",
      "execution_count": null,
      "metadata": {
        "colab": {
          "base_uri": "https://localhost:8080/",
          "height": 87
        },
        "id": "EaOjZje_CYgW",
        "outputId": "2bc31ec6-5a20-4e09-ec3d-7bd8d596cf15"
      },
      "outputs": [
        {
          "name": "stdout",
          "output_type": "stream",
          "text": [
            "What's your favorite animal? horse\n"
          ]
        },
        {
          "output_type": "execute_result",
          "data": {
            "text/plain": [
              "<IPython.core.display.Markdown object>"
            ],
            "text/markdown": "What’s your favorite animal? ***horse***  \n\nMy favorite animal is also ***horse***!"
          },
          "metadata": {},
          "execution_count": 1
        }
      ],
      "source": [
        "from IPython.display import Markdown\n",
        "\n",
        "# Ask for user input\n",
        "animal = input(\"What's your favorite animal? \")\n",
        "\n",
        "# Display response with bold italic formatting\n",
        "Markdown(f\"What’s your favorite animal? ***{animal}***  \\n\\n\"\n",
        "         f\"My favorite animal is also ***{animal}***!\")\n"
      ]
    }
  ]
}