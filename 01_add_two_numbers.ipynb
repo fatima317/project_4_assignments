{
  "nbformat": 4,
  "nbformat_minor": 0,
  "metadata": {
    "colab": {
      "provenance": [],
      "authorship_tag": "ABX9TyNJJJ85LohYfje6/lLpH2co",
      "include_colab_link": true
    },
    "kernelspec": {
      "name": "python3",
      "display_name": "Python 3"
    },
    "language_info": {
      "name": "python"
    }
  },
  "cells": [
    {
      "cell_type": "markdown",
      "metadata": {
        "id": "view-in-github",
        "colab_type": "text"
      },
      "source": [
        "<a href=\"https://colab.research.google.com/github/fatima317/project_4_assignments/blob/main/01_add_two_numbers.ipynb\" target=\"_parent\"><img src=\"https://colab.research.google.com/assets/colab-badge.svg\" alt=\"Open In Colab\"/></a>"
      ]
    },
    {
      "cell_type": "code",
      "execution_count": null,
      "metadata": {
        "colab": {
          "base_uri": "https://localhost:8080/",
          "height": 128
        },
        "id": "i4vm2dvoDDhh",
        "outputId": "d31301b5-1a7e-4f46-c6f7-6ee5d4dbe930"
      },
      "outputs": [
        {
          "name": "stdout",
          "output_type": "stream",
          "text": [
            "Enter the first number: 6\n",
            "Enter the second number: 8\n"
          ]
        },
        {
          "output_type": "display_data",
          "data": {
            "text/plain": [
              "<IPython.core.display.Markdown object>"
            ],
            "text/markdown": "Enter the first number: ***6***  \n\nEnter the second number: ***8***  \n\nThe sum of the two numbers is ***14***"
          },
          "metadata": {}
        }
      ],
      "source": [
        "from IPython.display import display, Markdown\n",
        "\n",
        "def main():\n",
        "    # Prompt and get the first number\n",
        "    num1 = int(input(\"Enter the first number: \"))\n",
        "\n",
        "    # Prompt and get the second number\n",
        "    num2 = int(input(\"Enter the second number: \"))\n",
        "\n",
        "    # Calculate the sum\n",
        "    total = num1 + num2\n",
        "\n",
        "    # Show output using Markdown (bold italic)\n",
        "    display(Markdown(\n",
        "        f\"Enter the first number: ***{num1}***  \\n\\n\"\n",
        "        f\"Enter the second number: ***{num2}***  \\n\\n\"\n",
        "        f\"The sum of the two numbers is ***{total}***\"\n",
        "    ))\n",
        "\n",
        "main()\n"
      ]
    }
  ]
}