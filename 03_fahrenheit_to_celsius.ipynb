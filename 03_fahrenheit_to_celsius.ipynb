{
  "nbformat": 4,
  "nbformat_minor": 0,
  "metadata": {
    "colab": {
      "provenance": [],
      "authorship_tag": "ABX9TyNFprx+S4NV3WKWKVZVu8sn",
      "include_colab_link": true
    },
    "kernelspec": {
      "name": "python3",
      "display_name": "Python 3"
    },
    "language_info": {
      "name": "python"
    }
  },
  "cells": [
    {
      "cell_type": "markdown",
      "metadata": {
        "id": "view-in-github",
        "colab_type": "text"
      },
      "source": [
        "<a href=\"https://colab.research.google.com/github/fatima317/project_4_assignments/blob/main/03_fahrenheit_to_celsius.ipynb\" target=\"_parent\"><img src=\"https://colab.research.google.com/assets/colab-badge.svg\" alt=\"Open In Colab\"/></a>"
      ]
    },
    {
      "cell_type": "code",
      "execution_count": 1,
      "metadata": {
        "colab": {
          "base_uri": "https://localhost:8080/",
          "height": 87
        },
        "id": "p5wZ9UhyBr0A",
        "outputId": "414449bf-fbfa-4231-9f18-49527746db57"
      },
      "outputs": [
        {
          "name": "stdout",
          "output_type": "stream",
          "text": [
            "Enter temperature in Fahrenheit: 76\n"
          ]
        },
        {
          "output_type": "execute_result",
          "data": {
            "text/plain": [
              "<IPython.core.display.Markdown object>"
            ],
            "text/markdown": "Enter temperature in Fahrenheit: ***76.0***  \n\nTemperature: ***76.0F*** = ***24.444444444444443C***"
          },
          "metadata": {},
          "execution_count": 1
        }
      ],
      "source": [
        "from IPython.display import Markdown\n",
        "\n",
        "# Prompt the user for Fahrenheit temperature\n",
        "f_temp = float(input(\"Enter temperature in Fahrenheit: \"))\n",
        "\n",
        "# Convert to Celsius\n",
        "c_temp = (f_temp - 32) * 5.0 / 9.0\n",
        "\n",
        "# Display result with bold italic formatting\n",
        "Markdown(f\"Enter temperature in Fahrenheit: ***{f_temp}***  \\n\\n\"\n",
        "         f\"Temperature: ***{f_temp}F*** = ***{c_temp}C***\")\n"
      ]
    }
  ]
}