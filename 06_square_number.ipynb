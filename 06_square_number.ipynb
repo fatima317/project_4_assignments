{
  "nbformat": 4,
  "nbformat_minor": 0,
  "metadata": {
    "colab": {
      "provenance": [],
      "authorship_tag": "ABX9TyNMUVE6dRblLTi9FSdRWsvF",
      "include_colab_link": true
    },
    "kernelspec": {
      "name": "python3",
      "display_name": "Python 3"
    },
    "language_info": {
      "name": "python"
    }
  },
  "cells": [
    {
      "cell_type": "markdown",
      "metadata": {
        "id": "view-in-github",
        "colab_type": "text"
      },
      "source": [
        "<a href=\"https://colab.research.google.com/github/fatima317/project_4_assignments/blob/main/06_square_number.ipynb\" target=\"_parent\"><img src=\"https://colab.research.google.com/assets/colab-badge.svg\" alt=\"Open In Colab\"/></a>"
      ]
    },
    {
      "cell_type": "code",
      "execution_count": 1,
      "metadata": {
        "colab": {
          "base_uri": "https://localhost:8080/",
          "height": 87
        },
        "id": "ZJsFWHBuEkBU",
        "outputId": "4bc78532-fcda-4d1c-952b-799ed79ad6ff"
      },
      "outputs": [
        {
          "name": "stdout",
          "output_type": "stream",
          "text": [
            "Type a number to see its square: 4\n"
          ]
        },
        {
          "output_type": "display_data",
          "data": {
            "text/plain": [
              "<IPython.core.display.Markdown object>"
            ],
            "text/markdown": "Type a number to see its square: ***4.0***  \n\n***4.0*** squared is ***16.0***"
          },
          "metadata": {}
        }
      ],
      "source": [
        "from IPython.display import display, Markdown\n",
        "\n",
        "# Ask the user for a number\n",
        "num = float(input(\"Type a number to see its square: \"))\n",
        "\n",
        "# Calculate the square\n",
        "square = num * num\n",
        "\n",
        "# Display the result with bold italic formatting\n",
        "display(Markdown(\n",
        "    f\"Type a number to see its square: ***{num}***  \\n\\n\"\n",
        "    f\"***{num}*** squared is ***{square}***\"\n",
        "))\n"
      ]
    }
  ]
}