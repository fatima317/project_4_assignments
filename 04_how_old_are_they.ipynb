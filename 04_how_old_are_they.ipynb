{
  "nbformat": 4,
  "nbformat_minor": 0,
  "metadata": {
    "colab": {
      "provenance": [],
      "authorship_tag": "ABX9TyO8KCrlCAXLTXM6RmRumRaG",
      "include_colab_link": true
    },
    "kernelspec": {
      "name": "python3",
      "display_name": "Python 3"
    },
    "language_info": {
      "name": "python"
    }
  },
  "cells": [
    {
      "cell_type": "markdown",
      "metadata": {
        "id": "view-in-github",
        "colab_type": "text"
      },
      "source": [
        "<a href=\"https://colab.research.google.com/github/fatima317/project_4_assignments/blob/main/04_how_old_are_they.ipynb\" target=\"_parent\"><img src=\"https://colab.research.google.com/assets/colab-badge.svg\" alt=\"Open In Colab\"/></a>"
      ]
    },
    {
      "cell_type": "code",
      "execution_count": 1,
      "metadata": {
        "colab": {
          "base_uri": "https://localhost:8080/",
          "height": 116
        },
        "id": "jiyVppudAmO0",
        "outputId": "7825ced9-a36b-4ac0-df1a-8309649a9250"
      },
      "outputs": [
        {
          "output_type": "execute_result",
          "data": {
            "text/plain": [
              "<IPython.core.display.Markdown object>"
            ],
            "text/markdown": "\nAnton is ***21*** years old.  \nBeth is ***27*** years old.  \nChen is ***47*** years old.  \nDrew is ***68*** years old.  \nEthan is ***47*** years old.\n"
          },
          "metadata": {},
          "execution_count": 1
        }
      ],
      "source": [
        "from IPython.display import Markdown\n",
        "\n",
        "# Calculate each person's age\n",
        "anton = 21\n",
        "beth = anton + 6\n",
        "chen = beth + 20\n",
        "drew = chen + anton\n",
        "ethan = chen\n",
        "\n",
        "# Format the output with bold italic using Markdown (***text***)\n",
        "output = f\"\"\"\n",
        "Anton is ***{anton}*** years old.\n",
        "Beth is ***{beth}*** years old.\n",
        "Chen is ***{chen}*** years old.\n",
        "Drew is ***{drew}*** years old.\n",
        "Ethan is ***{ethan}*** years old.\n",
        "\"\"\"\n",
        "\n",
        "Markdown(output)\n"
      ]
    }
  ]
}