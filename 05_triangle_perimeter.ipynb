{
  "nbformat": 4,
  "nbformat_minor": 0,
  "metadata": {
    "colab": {
      "provenance": [],
      "authorship_tag": "ABX9TyNUCtg21aopXBHWlNfJbEVB",
      "include_colab_link": true
    },
    "kernelspec": {
      "name": "python3",
      "display_name": "Python 3"
    },
    "language_info": {
      "name": "python"
    }
  },
  "cells": [
    {
      "cell_type": "markdown",
      "metadata": {
        "id": "view-in-github",
        "colab_type": "text"
      },
      "source": [
        "<a href=\"https://colab.research.google.com/github/fatima317/project_4_assignments/blob/main/05_triangle_perimeter.ipynb\" target=\"_parent\"><img src=\"https://colab.research.google.com/assets/colab-badge.svg\" alt=\"Open In Colab\"/></a>"
      ]
    },
    {
      "cell_type": "code",
      "execution_count": 1,
      "metadata": {
        "colab": {
          "base_uri": "https://localhost:8080/",
          "height": 157
        },
        "id": "0fdrE-d5-Dsu",
        "outputId": "5a0cbda3-7b78-48cb-acd4-7f603c5a5356"
      },
      "outputs": [
        {
          "name": "stdout",
          "output_type": "stream",
          "text": [
            "What is the length of side 1? 3\n",
            "What is the length of side 2? 4\n",
            "What is the length of side 3? 5.5\n"
          ]
        },
        {
          "output_type": "execute_result",
          "data": {
            "text/plain": [
              "<IPython.core.display.Markdown object>"
            ],
            "text/markdown": "What is the length of side 1? ***3.0***  \nWhat is the length of side 2? ***4.0***  \nWhat is the length of side 3? ***5.5***  \n\nThe perimeter of the triangle is ***12.5***"
          },
          "metadata": {},
          "execution_count": 1
        }
      ],
      "source": [
        "from IPython.display import Markdown\n",
        "\n",
        "# Get input from user\n",
        "s1 = float(input(\"What is the length of side 1? \"))\n",
        "s2 = float(input(\"What is the length of side 2? \"))\n",
        "s3 = float(input(\"What is the length of side 3? \"))\n",
        "\n",
        "perimeter = s1 + s2 + s3\n",
        "\n",
        "# Display with bold italic formatting\n",
        "Markdown(f\"What is the length of side 1? ***{s1}***  \\n\"\n",
        "         f\"What is the length of side 2? ***{s2}***  \\n\"\n",
        "         f\"What is the length of side 3? ***{s3}***  \\n\\n\"\n",
        "         f\"The perimeter of the triangle is ***{perimeter}***\")\n"
      ]
    }
  ]
}